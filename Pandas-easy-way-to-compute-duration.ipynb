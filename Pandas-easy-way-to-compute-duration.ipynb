{
 "cells": [
  {
   "cell_type": "code",
   "execution_count": null,
   "metadata": {},
   "outputs": [],
   "source": [
    "import pandas as pd\n",
    "import pymysql\n",
    "import datetime\n",
    "import numpy as np"
   ]
  },
  {
   "cell_type": "code",
   "execution_count": null,
   "metadata": {},
   "outputs": [],
   "source": [
    "con = pymysql.connect('ip', 'user', 'password', 'database')\n",
    "# put your own data"
   ]
  },
  {
   "cell_type": "code",
   "execution_count": null,
   "metadata": {},
   "outputs": [],
   "source": [
    "def querytime(func):\n",
    "    def extime(q):\n",
    "        starttime = datetime.datetime.now() # get time before a query\n",
    "        result = func(q) # implement our function\n",
    "        endtime = datetime.datetime.now() # get time after a query\n",
    "        print('Query execution time: {}'.format(endtime - starttime)) # print the different between       \n",
    "        print('Has found {} rows'.format(len(result))) # count rows\n",
    "        return result\n",
    "    return extime"
   ]
  },
  {
   "cell_type": "code",
   "execution_count": null,
   "metadata": {},
   "outputs": [],
   "source": [
    "@querytime # use our decorator\n",
    "def query(q:str, connector=con, **kwargs):\n",
    "    result = pd.read_sql(q, connector)\n",
    "    connector.close() # don't forget to close connection!\n",
    "    return result"
   ]
  },
  {
   "cell_type": "code",
   "execution_count": null,
   "metadata": {},
   "outputs": [],
   "source": [
    "df = query(\"SELECT * FROM...\") # type your SQL query"
   ]
  },
  {
   "cell_type": "code",
   "execution_count": null,
   "metadata": {},
   "outputs": [],
   "source": [
    "starts = df['startsAt'].values.astype('datetime64[m]')\n",
    "created = df['createdAt'].values.astype('datetime64[m]')\n",
    "delta = starts - created"
   ]
  },
  {
   "cell_type": "code",
   "execution_count": null,
   "metadata": {},
   "outputs": [],
   "source": [
    "minutes = delta / np.timedelta64(1, 'm')\n",
    "hours = (delta / np.timedelta64(1, 'h')).round(3)\n",
    "days = (delta / np.timedelta64(1, 'D')).round(3)\n",
    "duration = pd.DataFrame(zip(minutes, hours, days), columns=['minutes', 'hours', 'days'])"
   ]
  },
  {
   "cell_type": "code",
   "execution_count": null,
   "metadata": {},
   "outputs": [],
   "source": [
    "duration"
   ]
  },
  {
   "cell_type": "code",
   "execution_count": null,
   "metadata": {},
   "outputs": [],
   "source": [
    "result = pd.concat([df, duration], axis=1)"
   ]
  },
  {
   "cell_type": "code",
   "execution_count": null,
   "metadata": {},
   "outputs": [],
   "source": [
    "result.query('days > 1')"
   ]
  },
  {
   "cell_type": "code",
   "execution_count": null,
   "metadata": {},
   "outputs": [],
   "source": [
    "result"
   ]
  },
  {
   "cell_type": "code",
   "execution_count": null,
   "metadata": {},
   "outputs": [],
   "source": []
  }
 ],
 "metadata": {
  "kernelspec": {
   "display_name": "Python 3",
   "language": "python",
   "name": "python3"
  },
  "language_info": {
   "codemirror_mode": {
    "name": "ipython",
    "version": 3
   },
   "file_extension": ".py",
   "mimetype": "text/x-python",
   "name": "python",
   "nbconvert_exporter": "python",
   "pygments_lexer": "ipython3",
   "version": "3.8.5"
  }
 },
 "nbformat": 4,
 "nbformat_minor": 4
}
